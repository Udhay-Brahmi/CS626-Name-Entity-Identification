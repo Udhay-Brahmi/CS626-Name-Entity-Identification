{
 "cells": [
  {
   "cell_type": "code",
   "execution_count": 26,
   "id": "3b3ae4cd",
   "metadata": {},
   "outputs": [],
   "source": [
    "# Import necessary libraries\n",
    "import nltk\n",
    "from tqdm.notebook import tqdm\n",
    "from datasets import load_dataset\n",
    "from nltk.corpus import stopwords\n",
    "from sklearn.metrics import classification_report\n",
    "from sklearn.svm import SVC\n",
    "from nltk.tokenize import word_tokenize\n",
    "from string import punctuation\n",
    "import numpy as np\n",
    "from sklearn.preprocessing import StandardScaler\n",
    "import pickle\n",
    "\n",
    "# Download NLTK resources\n",
    "nltk.download('punkt')\n",
    "nltk.download(\"stopwords\")\n",
    "\n",
    "# Set seed for reproducibility\n",
    "SEED = 0\n",
    "FEATURES_COUNT = 6\n",
    "SW = stopwords.words(\"english\")\n",
    "PUNCT = list(punctuation)\n"
   ]
  },
  {
   "cell_type": "code",
   "execution_count": 27,
   "id": "6b513470",
   "metadata": {},
   "outputs": [
    {
     "name": "stderr",
     "output_type": "stream",
     "text": [
      "[nltk_data] Downloading package punkt to\n",
      "[nltk_data]     /Users/harshvive14/nltk_data...\n",
      "[nltk_data]   Package punkt is already up-to-date!\n",
      "[nltk_data] Downloading package stopwords to\n",
      "[nltk_data]     /Users/harshvive14/nltk_data...\n",
      "[nltk_data]   Package stopwords is already up-to-date!\n"
     ]
    }
   ],
   "source": [
    "# Function to create feature vector for a word\n",
    "def vectorize_word(w, scaled_position):\n",
    "    v = np.zeros(FEATURES_COUNT).astype(np.float32)\n",
    "    title = int(w[0].isupper())\n",
    "    allcaps = int(w.isupper())\n",
    "    sw = int(w.lower() in SW)\n",
    "    punct = int(w in PUNCT)\n",
    "    return [title, allcaps, len(w), sw, punct, scaled_position]\n"
   ]
  },
  {
   "cell_type": "code",
   "execution_count": 31,
   "id": "337c14ca",
   "metadata": {},
   "outputs": [],
   "source": [
    "# Function to process and create dataset\n",
    "def create_data_set(data):\n",
    "    words = []\n",
    "    features = []\n",
    "    labels = []\n",
    "    for d in tqdm(data):\n",
    "        tags = d[\"ner_tags\"]\n",
    "        tokens = d[\"tokens\"]\n",
    "        for i in range(len(tokens)):\n",
    "            x = vectorize_word(tokens[i], i / len(tokens))\n",
    "            y = int(tags[i] > 0)\n",
    "            features.append(x)\n",
    "            labels.append(y)\n",
    "        words += tokens\n",
    "    words = np.asarray(words, dtype=\"object\")\n",
    "    features = np.asarray(features, dtype=np.float32)\n",
    "    labels = np.asarray(labels, dtype=np.float32)\n",
    "    return words, features, labels\n"
   ]
  },
  {
   "cell_type": "code",
   "execution_count": 29,
   "id": "921d490f",
   "metadata": {},
   "outputs": [
    {
     "name": "stderr",
     "output_type": "stream",
     "text": [
      "Found cached dataset conll2003 (/Users/harshvive14/.cache/huggingface/datasets/conll2003/conll2003/1.0.0/9a4d16a94f8674ba3466315300359b0acd891b68b6c8743ddf60b9c702adce98)\n"
     ]
    },
    {
     "data": {
      "application/vnd.jupyter.widget-view+json": {
       "model_id": "4041fdcccdfb4683bbee3238897db650",
       "version_major": 2,
       "version_minor": 0
      },
      "text/plain": [
       "  0%|          | 0/3 [00:00<?, ?it/s]"
      ]
     },
     "metadata": {},
     "output_type": "display_data"
    },
    {
     "data": {
      "application/vnd.jupyter.widget-view+json": {
       "model_id": "7103a9cbb6174c7481ffacba62959195",
       "version_major": 2,
       "version_minor": 0
      },
      "text/plain": [
       "  0%|          | 0/14041 [00:00<?, ?it/s]"
      ]
     },
     "metadata": {},
     "output_type": "display_data"
    },
    {
     "data": {
      "application/vnd.jupyter.widget-view+json": {
       "model_id": "619a7e8b04ce48c689ce6c0cccf0c673",
       "version_major": 2,
       "version_minor": 0
      },
      "text/plain": [
       "  0%|          | 0/3250 [00:00<?, ?it/s]"
      ]
     },
     "metadata": {},
     "output_type": "display_data"
    },
    {
     "data": {
      "application/vnd.jupyter.widget-view+json": {
       "model_id": "6e26495bf79a464f94daabef55ec96f5",
       "version_major": 2,
       "version_minor": 0
      },
      "text/plain": [
       "  0%|          | 0/3453 [00:00<?, ?it/s]"
      ]
     },
     "metadata": {},
     "output_type": "display_data"
    },
    {
     "name": "stdout",
     "output_type": "stream",
     "text": [
      "[LibSVM]..................\n",
      "Warning: using -h 0 may be faster\n",
      "*.........\n",
      "Warning: using -h 0 may be faster\n",
      "*\n",
      "optimization finished, #iter = 27236\n",
      "obj = -15443.285139, rho = -1.088682\n",
      "nSV = 17088, nBSV = 9558\n",
      "Total nSV = 17088\n",
      "              precision    recall  f1-score   support\n",
      "\n",
      "         0.0       0.99      0.96      0.98     42759\n",
      "         1.0       0.82      0.97      0.89      8603\n",
      "\n",
      "    accuracy                           0.96     51362\n",
      "   macro avg       0.91      0.96      0.93     51362\n",
      "weighted avg       0.96      0.96      0.96     51362\n",
      "\n"
     ]
    }
   ],
   "source": [
    "# Function to train SVM model\n",
    "def train_svm_model(X_train, y_train, scaler, C=1.0, kernel='linear', class_weight='balanced', random_state=SEED):\n",
    "    X_train_scaled = scaler.transform(X_train)\n",
    "    model = SVC(C=C, kernel=kernel, class_weight=class_weight, random_state=random_state, verbose=True)\n",
    "    model.fit(X_train_scaled, y_train)\n",
    "    return model\n"
   ]
  },
  {
   "cell_type": "code",
   "execution_count": null,
   "metadata": {},
   "outputs": [],
   "source": [
    "# Function to save trained model\n",
    "def save_model(model, model_name):\n",
    "    pickle.dump(model, open(model_name, 'wb'))\n"
   ]
  },
  {
   "cell_type": "code",
   "execution_count": null,
   "metadata": {},
   "outputs": [],
   "source": [
    "# Main execution cell\n",
    "if __name__ == \"__main__\":\n",
    "    # Load dataset\n",
    "    data = load_dataset(\"conll2003\")\n",
    "    data_train = data[\"train\"] \n",
    "    data_val = data[\"validation\"]\n",
    "    \n",
    "    # Process training and validation data\n",
    "    words_train, X_train, y_train = create_data_set(data_train)\n",
    "    words_val, X_val, y_val = create_data_set(data_val)\n",
    "\n",
    "    # Initialize and fit StandardScaler\n",
    "    scaler = StandardScaler()\n",
    "    scaler.fit(X_train)\n",
    "\n",
    "    # Train SVM model\n",
    "    model = train_svm_model(X_train, y_train, scaler)\n",
    "\n",
    "    # Save trained model and scaler\n",
    "    nei_model_name = 'nei_model.sav'\n",
    "    scaler_model_name = 'scaler_model.sav'\n",
    "    save_model(model, nei_model_name)\n",
    "    save_model(scaler, scaler_model_name)\n",
    "\n",
    "    # Transform validation data and make predictions\n",
    "    X_val_scaled = scaler.transform(X_val)\n",
    "    y_pred_val = model.predict(X_val_scaled)\n",
    "\n",
    "    # Print classification report\n",
    "    print(classification_report(y_true=y_val, y_pred=y_pred_val))\n"
   ]
  }
 ],
 "metadata": {
  "kernelspec": {
   "display_name": "Python 3 (ipykernel)",
   "language": "python",
   "name": "python3"
  },
  "language_info": {
   "codemirror_mode": {
    "name": "ipython",
    "version": 3
   },
   "file_extension": ".py",
   "mimetype": "text/x-python",
   "name": "python",
   "nbconvert_exporter": "python",
   "pygments_lexer": "ipython3",
   "version": "3.11.4"
  }
 },
 "nbformat": 4,
 "nbformat_minor": 5
}
